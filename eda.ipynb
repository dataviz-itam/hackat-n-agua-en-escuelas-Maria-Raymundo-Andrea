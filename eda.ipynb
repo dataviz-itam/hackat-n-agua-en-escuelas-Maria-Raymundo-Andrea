{
 "cells": [
  {
   "cell_type": "code",
   "execution_count": 49,
   "metadata": {},
   "outputs": [
    {
     "name": "stderr",
     "output_type": "stream",
     "text": [
      "C:\\Users\\raylu\\AppData\\Local\\Temp\\ipykernel_11644\\327814019.py:3: DtypeWarning: Columns (29,30,31,32,33,34,35,36,37,38,39,40,41) have mixed types. Specify dtype option on import or set low_memory=False.\n",
      "  df = pd.read_csv('inca-escuelas-rev-082023-2.csv')\n"
     ]
    }
   ],
   "source": [
    "import pandas as pd\n",
    "import numpy as np\n",
    "df = pd.read_csv('inca-escuelas-rev-082023-2.csv')"
   ]
  },
  {
   "cell_type": "code",
   "execution_count": 50,
   "metadata": {},
   "outputs": [
    {
     "name": "stdout",
     "output_type": "stream",
     "text": [
      "['Consecutivo', 'CC BASE MUN_ESC (bme)', 'Nombre de la entidad', 'Nombre del municipio o delegación', 'Nombre de localidad', 'Código postal', 'Nombre del centro de trabajo', 'Nivel educativo', 'Ubicación de la escuela-localidad al Oeste del Meridiano de Greenwich, expresada en grados', 'Ubicación de la escuela-localidad al norte del Ecuador, expresada en grados', 'Tipo educativo', 'Servicio educativo', 'Nombre del control (Público o Privado)', 'Tipo de sostenimiento', 'Domicilio', 'Número exterior', 'Entre la calle', 'Y la calle', 'Calle posterior', 'Colonia', 'Nombre de la colonia', 'Alumnos total (hombres)', 'Alumnos total (mujeres)', 'Alumnos total', 'Docentes total (hombres)', 'Docentes total (mujeres)', 'Docentes total', 'Parámetros biológicos y físicos (PBF): COLIFORMES FECALES', 'Parámetros biológicos y físicos (PBF): COLIFORMES TOTALES', 'Parámetros biológicos y físicos (PBF): COLOR', 'Parámetros biológicos y físicos (PBF): TURBIEDAD', 'Parámetros químicos (no metálicos) (PBQ): pH', 'Parámetros químicos (no metálicos) (PBQ): DUREZA TOTAL', 'Parámetros químicos (no metálicos) (PBQ): FLUORUROS', 'Parámetros químicos (no metálicos) (PBQ): NITRATOS', 'Parámetros químicos (no metálicos) (PBQ): SULFATOS', 'Parámetros químicos (no metálicos) (PBQ): SÓLIDOS DISUELTOS', 'Parámetros químicos metálicos (o metaloides) (PBM): ALUMINIO', 'Parámetros químicos metálicos (o metaloides) (PBM): ARSÉNICO', 'Parámetros químicos metálicos (o metaloides) (PBM): MANGANESO', 'Parámetros químicos metálicos (o metaloides) (PBM): HIERRO', 'Parámetros químicos metálicos (o metaloides) (PBM): PLOMO', 'Período de información']\n"
     ]
    }
   ],
   "source": [
    "print(list(df.columns))"
   ]
  },
  {
   "cell_type": "code",
   "execution_count": 51,
   "metadata": {},
   "outputs": [],
   "source": [
    "col_int = [\"Nombre de la entidad\", \"Nombre del municipio o delegación\", \"Nombre del centro de trabajo\", \"Nombre del control (Público o Privado)\", \"Parámetros biológicos y físicos (PBF): COLIFORMES FECALES\", \"Parámetros biológicos y físicos (PBF): TURBIEDAD\", \"Parámetros químicos (no metálicos) (PBQ): FLUORUROS\", \"Parámetros químicos (no metálicos) (PBQ): NITRATOS\", \"Parámetros químicos (no metálicos) (PBQ): SÓLIDOS DISUELTOS\", \"Parámetros químicos metálicos (o metaloides) (PBM): ALUMINIO\", \"Parámetros químicos metálicos (o metaloides) (PBM): ARSÉNICO\", \"Parámetros químicos metálicos (o metaloides) (PBM): HIERRO\", \"Parámetros químicos metálicos (o metaloides) (PBM): PLOMO\", \"Período de información\"]"
   ]
  },
  {
   "cell_type": "code",
   "execution_count": 52,
   "metadata": {},
   "outputs": [
    {
     "name": "stderr",
     "output_type": "stream",
     "text": [
      "C:\\Users\\raylu\\AppData\\Local\\Temp\\ipykernel_11644\\1443721506.py:5: FutureWarning: Downcasting behavior in `replace` is deprecated and will be removed in a future version. To retain the old behavior, explicitly call `result.infer_objects(copy=False)`. To opt-in to the future behavior, set `pd.set_option('future.no_silent_downcasting', True)`\n",
      "  df.replace('ND', np.nan, inplace=True)\n"
     ]
    }
   ],
   "source": [
    "df = df[col_int]\n",
    "df = df[(df['Período de información'] == '2018-2019')]\n",
    "\n",
    "\n",
    "df.replace('ND', np.nan, inplace=True)\n",
    "df.reset_index(drop=True, inplace=True)\n",
    "df.to_csv('baseFinal.csv', index=False)"
   ]
  },
  {
   "cell_type": "code",
   "execution_count": null,
   "metadata": {},
   "outputs": [],
   "source": []
  },
  {
   "cell_type": "code",
   "execution_count": 53,
   "metadata": {},
   "outputs": [
    {
     "name": "stdout",
     "output_type": "stream",
     "text": [
      "   Columna1  Columna2\n",
      "1       2.0       2.0\n",
      "3       4.0       4.0\n"
     ]
    }
   ],
   "source": [
    "import pandas as pd\n",
    "\n",
    "# Crear un DataFrame de ejemplo\n",
    "data = {'Columna1': [1, 2, None, 4],\n",
    "        'Columna2': [None, 2, 3, 4]}\n",
    "df = pd.DataFrame(data)\n",
    "\n",
    "# Eliminar filas que contengan algún NaN\n",
    "df_limpio = df.dropna()\n",
    "\n",
    "print(df_limpio)\n"
   ]
  },
  {
   "cell_type": "code",
   "execution_count": 54,
   "metadata": {},
   "outputs": [
    {
     "data": {
      "text/plain": [
       "nan"
      ]
     },
     "execution_count": 54,
     "metadata": {},
     "output_type": "execute_result"
    }
   ],
   "source": [
    "np.mean([np.nan,1,2,3])"
   ]
  },
  {
   "cell_type": "code",
   "execution_count": null,
   "metadata": {},
   "outputs": [],
   "source": []
  }
 ],
 "metadata": {
  "kernelspec": {
   "display_name": "Python 3",
   "language": "python",
   "name": "python3"
  },
  "language_info": {
   "codemirror_mode": {
    "name": "ipython",
    "version": 3
   },
   "file_extension": ".py",
   "mimetype": "text/x-python",
   "name": "python",
   "nbconvert_exporter": "python",
   "pygments_lexer": "ipython3",
   "version": "3.12.2"
  }
 },
 "nbformat": 4,
 "nbformat_minor": 2
}
